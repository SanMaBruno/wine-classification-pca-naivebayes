{
 "cells": [
  {
   "cell_type": "markdown",
   "metadata": {},
   "source": [
    "# Entrenamiento del Modelo: Clasificación de Vinos utilizando Naive Bayes y PCA\n",
    "\n",
    "En este notebook se documenta el proceso de entrenamiento de un modelo Naive Bayes utilizando el dataset de vinos. Aplicamos PCA para reducir la dimensionalidad de los datos y observamos el impacto en la exactitud del modelo.\n"
   ]
  },
  {
   "cell_type": "markdown",
   "metadata": {},
   "source": [
    "## Importación de Librerías\n",
    "\n",
    "Las siguientes librerías son esenciales para el análisis y entrenamiento del modelo.\n"
   ]
  },
  {
   "cell_type": "code",
   "execution_count": 28,
   "metadata": {},
   "outputs": [],
   "source": [
    "import pandas as pd\n",
    "import numpy as np\n",
    "from sklearn.naive_bayes import GaussianNB\n",
    "from sklearn.model_selection import train_test_split\n",
    "from sklearn.preprocessing import StandardScaler\n",
    "from sklearn.decomposition import PCA\n",
    "from sklearn.metrics import accuracy_score, confusion_matrix, classification_report\n",
    "import joblib\n"
   ]
  },
  {
   "cell_type": "markdown",
   "metadata": {},
   "source": [
    "## Carga y Preprocesamiento de los Datos\n",
    "\n",
    "En este paso, cargamos el dataset `cleaned_wine_data.csv` y realizamos el preprocesamiento correspondiente, que incluye la división de los datos en conjunto de entrenamiento y prueba, y el escalado de las características.\n"
   ]
  },
  {
   "cell_type": "code",
   "execution_count": 46,
   "metadata": {},
   "outputs": [
    {
     "name": "stdout",
     "output_type": "stream",
     "text": [
      "Datos cargados exitosamente desde ../data/processed/cleaned_wine_data.csv\n",
      "Datos escalados y divididos en conjunto de entrenamiento y prueba.\n"
     ]
    }
   ],
   "source": [
    "import pandas as pd\n",
    "from sklearn.model_selection import train_test_split\n",
    "from sklearn.preprocessing import StandardScaler\n",
    "\n",
    "# Cargar los datos\n",
    "file_path = '../data/processed/cleaned_wine_data.csv'  # Ajusta la ruta según sea necesario\n",
    "\n",
    "def load_data(file_path):\n",
    "    \"\"\"\n",
    "    Cargar datos desde un archivo CSV.\n",
    "    \"\"\"\n",
    "    try:\n",
    "        df = pd.read_csv(file_path)\n",
    "        print(f\"Datos cargados exitosamente desde {file_path}\")\n",
    "        return df\n",
    "    except FileNotFoundError:\n",
    "        print(f\"El archivo {file_path} no fue encontrado.\")\n",
    "        return None\n",
    "\n",
    "df = load_data(file_path)\n",
    "\n",
    "# Verificar que los datos se hayan cargado correctamente\n",
    "if df is not None:\n",
    "    # Preprocesar los datos\n",
    "    def preprocess_data(df):\n",
    "        \"\"\"\n",
    "        Preprocesar los datos: separación de características y etiquetas,\n",
    "        escalado y división en conjunto de entrenamiento y prueba.\n",
    "        \"\"\"\n",
    "        # Separar características y etiquetas\n",
    "        X = df.iloc[:, 1:]  # Características\n",
    "        y = df.iloc[:, 0].astype(int)  # Etiquetas\n",
    "\n",
    "        # Dividir en conjunto de entrenamiento y prueba\n",
    "        X_train, X_test, y_train, y_test = train_test_split(X, y, test_size=0.2, random_state=42)\n",
    "\n",
    "        # Escalar los datos\n",
    "        scaler = StandardScaler()\n",
    "        X_train_scaled = scaler.fit_transform(X_train)\n",
    "        X_test_scaled = scaler.transform(X_test)\n",
    "\n",
    "        print(\"Datos escalados y divididos en conjunto de entrenamiento y prueba.\")\n",
    "        return X_train_scaled, X_test_scaled, y_train, y_test\n",
    "\n",
    "    X_train_scaled, X_test_scaled, y_train, y_test = preprocess_data(df)\n",
    "else:\n",
    "    print(\"Error: No se pudo cargar el dataset.\")\n"
   ]
  },
  {
   "cell_type": "markdown",
   "metadata": {},
   "source": [
    "## Reducción de Dimensionalidad con PCA\n",
    "\n",
    "La técnica de PCA (Análisis de Componentes Principales) se aplica para reducir la dimensionalidad del conjunto de datos, lo que nos permite acelerar el proceso de entrenamiento sin perder información importante.\n"
   ]
  },
  {
   "cell_type": "code",
   "execution_count": 47,
   "metadata": {},
   "outputs": [
    {
     "name": "stdout",
     "output_type": "stream",
     "text": [
      "PCA aplicado con 2 componentes principales.\n"
     ]
    }
   ],
   "source": [
    "# Aplicar PCA\n",
    "n_components = 2  # Selección de 2 componentes principales basada en análisis previo\n",
    "\n",
    "pca = PCA(n_components=n_components)\n",
    "X_train_pca = pca.fit_transform(X_train_scaled)\n",
    "X_test_pca = pca.transform(X_test_scaled)\n",
    "\n",
    "print(f\"PCA aplicado con {n_components} componentes principales.\")\n"
   ]
  },
  {
   "cell_type": "markdown",
   "metadata": {},
   "source": [
    "## Entrenamiento del Modelo Naive Bayes\n",
    "\n",
    "Se entrena un modelo de clasificación Naive Bayes utilizando los datos transformados por PCA.\n"
   ]
  },
  {
   "cell_type": "code",
   "execution_count": 48,
   "metadata": {},
   "outputs": [
    {
     "name": "stdout",
     "output_type": "stream",
     "text": [
      "Modelo Naive Bayes entrenado.\n"
     ]
    }
   ],
   "source": [
    "# Entrenar el clasificador Naive Bayes\n",
    "classifier = GaussianNB()\n",
    "classifier.fit(X_train_pca, y_train)\n",
    "\n",
    "print(\"Modelo Naive Bayes entrenado.\")"
   ]
  },
  {
   "cell_type": "markdown",
   "metadata": {},
   "source": [
    "## Evaluación del Modelo\n",
    "\n",
    "Una vez entrenado el modelo, se procede a realizar predicciones en el conjunto de prueba y se calcula su exactitud. También se presenta la matriz de confusión y el reporte de clasificación.\n"
   ]
  },
  {
   "cell_type": "code",
   "execution_count": 49,
   "metadata": {},
   "outputs": [
    {
     "name": "stdout",
     "output_type": "stream",
     "text": [
      "Exactitud del modelo: 1.00\n",
      "Matriz de Confusión:\n",
      "[[14  0  0]\n",
      " [ 0 14  0]\n",
      " [ 0  0  8]]\n",
      "Reporte de Clasificación:\n",
      "              precision    recall  f1-score   support\n",
      "\n",
      "           1       1.00      1.00      1.00        14\n",
      "           2       1.00      1.00      1.00        14\n",
      "           3       1.00      1.00      1.00         8\n",
      "\n",
      "    accuracy                           1.00        36\n",
      "   macro avg       1.00      1.00      1.00        36\n",
      "weighted avg       1.00      1.00      1.00        36\n",
      "\n"
     ]
    }
   ],
   "source": [
    "# Predecir y evaluar el modelo\n",
    "y_pred = classifier.predict(X_test_pca)\n",
    "\n",
    "# Calcular la exactitud\n",
    "accuracy = accuracy_score(y_test, y_pred)\n",
    "print(f\"Exactitud del modelo: {accuracy:.2f}\")\n",
    "\n",
    "# Matriz de confusión\n",
    "print(\"Matriz de Confusión:\")\n",
    "print(confusion_matrix(y_test, y_pred))\n",
    "\n",
    "# Reporte de clasificación\n",
    "print(\"Reporte de Clasificación:\")\n",
    "print(classification_report(y_test, y_pred))\n"
   ]
  },
  {
   "cell_type": "markdown",
   "metadata": {},
   "source": [
    "## Guardar el Modelo Entrenado\n",
    "\n",
    "El modelo entrenado se guarda en un archivo para su uso posterior.\n"
   ]
  },
  {
   "cell_type": "code",
   "execution_count": 51,
   "metadata": {},
   "outputs": [
    {
     "name": "stdout",
     "output_type": "stream",
     "text": [
      "Modelo guardado en ../models\\naive_bayes_model.pkl\n"
     ]
    }
   ],
   "source": [
    "# Asegúrate de que el directorio de modelos exista\n",
    "model_directory = '../models'\n",
    "if not os.path.exists(model_directory):\n",
    "    os.makedirs(model_directory)\n",
    "\n",
    "# Guardar el modelo entrenado\n",
    "model_file_path = os.path.join(model_directory, 'naive_bayes_model.pkl')\n",
    "joblib.dump(classifier, model_file_path)\n",
    "print(f\"Modelo guardado en {model_file_path}\")"
   ]
  },
  {
   "cell_type": "markdown",
   "metadata": {},
   "source": [
    "## Conclusiones\n",
    "\n",
    "El modelo Naive Bayes entrenado con una reducción de dimensionalidad mediante PCA ha logrado una alta exactitud en el conjunto de prueba. La reducción a 2 componentes principales fue efectiva para mantener la precisión del modelo mientras se reducían las dimensiones.\n",
    "\n",
    "Este modelo puede ser utilizado para realizar predicciones en nuevas muestras de vino y ha sido guardado en formato `.pkl` para su reutilización.\n"
   ]
  }
 ],
 "metadata": {
  "kernelspec": {
   "display_name": "Python 3 (ipykernel)",
   "language": "python",
   "name": "python3"
  },
  "language_info": {
   "codemirror_mode": {
    "name": "ipython",
    "version": 3
   },
   "file_extension": ".py",
   "mimetype": "text/x-python",
   "name": "python",
   "nbconvert_exporter": "python",
   "pygments_lexer": "ipython3",
   "version": "3.12.5"
  }
 },
 "nbformat": 4,
 "nbformat_minor": 2
}
